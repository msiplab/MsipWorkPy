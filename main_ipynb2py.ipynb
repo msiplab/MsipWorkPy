{
 "cells": [
  {
   "cell_type": "markdown",
   "metadata": {},
   "source": [
    "# Jupyter コードからPython コードへの変換"
   ]
  },
  {
   "cell_type": "code",
   "execution_count": 1,
   "metadata": {},
   "outputs": [],
   "source": [
    "import msip"
   ]
  },
  {
   "cell_type": "markdown",
   "metadata": {},
   "source": []
  },
  {
   "cell_type": "markdown",
   "metadata": {},
   "source": [
    "## ファイルの指定"
   ]
  },
  {
   "cell_type": "code",
   "execution_count": 2,
   "metadata": {},
   "outputs": [],
   "source": [
    "fname = './scripts/ch01/example01_01'"
   ]
  },
  {
   "cell_type": "markdown",
   "metadata": {},
   "source": [
    "## ファイルの変換"
   ]
  },
  {
   "cell_type": "code",
   "execution_count": 3,
   "metadata": {},
   "outputs": [
    {
     "name": "stdout",
     "output_type": "stream",
     "text": [
      "Convert notebook ./scripts/ch01/example01_01.ipynb to python script.\n"
     ]
    }
   ],
   "source": [
    "msip.ipynb2py(fname)"
   ]
  },
  {
   "cell_type": "markdown",
   "metadata": {},
   "source": [
    "## 変換後のスクリプトの内容"
   ]
  },
  {
   "cell_type": "code",
   "execution_count": 4,
   "metadata": {},
   "outputs": [
    {
     "name": "stdout",
     "output_type": "stream",
     "text": [
      "\n",
      "# coding: utf-8\n",
      "\n",
      "# # 例1.1（配列表現）\n",
      "# 村松正吾　「多次元信号・画像処理の基礎と展開」\n",
      "# \n",
      "# 動作確認： Python 3.6\n",
      "# \n",
      "# Copyright (c) Shogo MURAMATSU, 2018\n",
      "# All rights reserved\n",
      "\n",
      "# In[1]:\n",
      "\n",
      "\n",
      "import sys\n",
      "sys.path.append('../../')\n",
      "import msip\n",
      "\n",
      "\n",
      "# ##画像のダウンロード\n",
      "\n",
      "# In[2]:\n",
      "\n",
      "\n",
      "msip.download_img(True)\n",
      "\n",
      "\n",
      "# %% (a) グレースケール画像\n",
      "# %%\n",
      "# fprintf('(a) グレースケール画像\\n')\n",
      "# V = imread('./data/barbara.png');\n",
      "# fprintf('配列次元： D = %d\\n',ndims(V))\n",
      "# imshow(V)\n",
      "# %% (b) RGB画像\n",
      "# %%\n",
      "# fprintf('(b) RGB画像\\n')\n",
      "# V = imread('./data/lena.png');\n",
      "# fprintf('配列次元： D = %d\\n',ndims(V))\n",
      "# imshow(V)\n",
      "# %% (c) 動画像\n",
      "# %%\n",
      "# fprintf('(c) RGB動画像\\n')\n",
      "# vrObj = VideoReader('shuttle.avi');\n",
      "# V = zeros(vrObj.Height,vrObj.Width,3,2,'uint8');\n",
      "# V(:,:,:,1) = readFrame(vrObj);\n",
      "# V(:,:,:,2) = readFrame(vrObj);\n",
      "# fprintf('配列次元： D = %d\\n',ndims(V))\n",
      "# imshow(V(:,:,:,1))\n",
      "# title('第0フレーム')\n",
      "# imshow(V(:,:,:,2))\n",
      "# title('第1フレーム')\n",
      "# %% (d) ボリュームデーデータ\n",
      "# %%\n",
      "# fprintf('(d) ボリュームデータ\\n')\n",
      "# load mri\n",
      "# V = squeeze(D);\n",
      "# fprintf('配列次元： D = %d\\n',ndims(V))\n",
      "# imshow(V(:,:,1))\n",
      "# title('第0スライス(xy)')\n",
      "# imshow(V(:,:,2))\n",
      "# title('第1スライス(xy)')\n",
      "\n"
     ]
    }
   ],
   "source": [
    "with open(fname+'.py','r', encoding='utf-8') as f:\n",
    "    print(f.read())    "
   ]
  },
  {
   "cell_type": "code",
   "execution_count": null,
   "metadata": {},
   "outputs": [],
   "source": []
  }
 ],
 "metadata": {
  "kernelspec": {
   "display_name": "Python 3",
   "language": "python",
   "name": "python3"
  },
  "language_info": {
   "codemirror_mode": {
    "name": "ipython",
    "version": 3
   },
   "file_extension": ".py",
   "mimetype": "text/x-python",
   "name": "python",
   "nbconvert_exporter": "python",
   "pygments_lexer": "ipython3",
   "version": "3.6.5"
  }
 },
 "nbformat": 4,
 "nbformat_minor": 2
}
