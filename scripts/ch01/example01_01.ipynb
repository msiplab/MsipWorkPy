{
 "cells": [
  {
   "cell_type": "markdown",
   "metadata": {},
   "source": [
    "# 例1.1（配列表現）\n",
    "村松正吾　「多次元信号・画像処理の基礎と展開」\n",
    "\n",
    "動作確認： Python 3.6\n",
    "\n",
    "Copyright (c) Shogo MURAMATSU, 2018\n",
    "All rights reserved"
   ]
  },
  {
   "cell_type": "code",
   "execution_count": 1,
   "metadata": {},
   "outputs": [],
   "source": [
    "import sys\n",
    "sys.path.append('../../')\n",
    "import msip"
   ]
  },
  {
   "cell_type": "markdown",
   "metadata": {},
   "source": [
    "##画像のダウンロード"
   ]
  },
  {
   "cell_type": "code",
   "execution_count": 2,
   "metadata": {},
   "outputs": [
    {
     "name": "stdout",
     "output_type": "stream",
     "text": [
      "lena.png already exists in ../../data/\n",
      "baboon.png already exists in ../../data/\n",
      "goldhill.png already exists in ../../data/\n",
      "barbara.png already exists in ../../data/\n"
     ]
    }
   ],
   "source": [
    "msip.download_img(True)"
   ]
  },
  {
   "cell_type": "markdown",
   "metadata": {},
   "source": [
    "%% (a) グレースケール画像\n",
    "%%\n",
    "fprintf('(a) グレースケール画像\\n')\n",
    "V = imread('./data/barbara.png');\n",
    "fprintf('配列次元： D = %d\\n',ndims(V))\n",
    "imshow(V)\n",
    "%% (b) RGB画像\n",
    "%%\n",
    "fprintf('(b) RGB画像\\n')\n",
    "V = imread('./data/lena.png');\n",
    "fprintf('配列次元： D = %d\\n',ndims(V))\n",
    "imshow(V)\n",
    "%% (c) 動画像\n",
    "%%\n",
    "fprintf('(c) RGB動画像\\n')\n",
    "vrObj = VideoReader('shuttle.avi');\n",
    "V = zeros(vrObj.Height,vrObj.Width,3,2,'uint8');\n",
    "V(:,:,:,1) = readFrame(vrObj);\n",
    "V(:,:,:,2) = readFrame(vrObj);\n",
    "fprintf('配列次元： D = %d\\n',ndims(V))\n",
    "imshow(V(:,:,:,1))\n",
    "title('第0フレーム')\n",
    "imshow(V(:,:,:,2))\n",
    "title('第1フレーム')\n",
    "%% (d) ボリュームデーデータ\n",
    "%%\n",
    "fprintf('(d) ボリュームデータ\\n')\n",
    "load mri\n",
    "V = squeeze(D);\n",
    "fprintf('配列次元： D = %d\\n',ndims(V))\n",
    "imshow(V(:,:,1))\n",
    "title('第0スライス(xy)')\n",
    "imshow(V(:,:,2))\n",
    "title('第1スライス(xy)')"
   ]
  }
 ],
 "metadata": {
  "kernelspec": {
   "display_name": "Python 3",
   "language": "python",
   "name": "python3"
  },
  "language_info": {
   "codemirror_mode": {
    "name": "ipython",
    "version": 3
   },
   "file_extension": ".py",
   "mimetype": "text/x-python",
   "name": "python",
   "nbconvert_exporter": "python",
   "pygments_lexer": "ipython3",
   "version": "3.6.5"
  }
 },
 "nbformat": 4,
 "nbformat_minor": 2
}
